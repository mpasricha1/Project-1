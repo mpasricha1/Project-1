{
 "cells": [
  {
   "cell_type": "code",
   "execution_count": 1,
   "metadata": {},
   "outputs": [],
   "source": [
    "import requests \n",
    "import pandas as pd\n",
    "import matplotlib.pyplot as plt\n",
    "from config_ka import g_key\n",
    "import gmaps\n",
    "import gmaps.datasets\n"
   ]
  },
  {
   "cell_type": "code",
   "execution_count": 2,
   "metadata": {},
   "outputs": [],
   "source": [
    "# Reading in Main Dataset pulled by Muse API\n",
    "file = '../Resources/job_company_merged_data.csv'\n",
    "df = pd.read_csv(file)\n",
    "df.head(5)\n",
    "\n",
    "# Reading in City Coordinates Dataset\n",
    "coord_file = '../Resources/city_coordinates.csv'\n",
    "coord_df = pd.read_csv(coord_file)\n",
    "# Replace Washington DC with \"Washington\" to match city name in jobs dataset\n",
    "coord_df.replace(to_replace=\"Washington DC\", value=\"Washington\", inplace=True)\n",
    "\n",
    "# Reading in salary Dataset\n",
    "salary_file = '../Resources/Cleaned_Salary_Data.csv'\n",
    "salary_df = pd.read_csv(salary_file)\n",
    "# Replace Washington DC with \"Washington\" to match city name in jobs dataset\n",
    "salary_df.replace(to_replace=\"Washington DC\", value=\"Washington\", inplace=True)\n"
   ]
  },
  {
   "cell_type": "code",
   "execution_count": 3,
   "metadata": {},
   "outputs": [
    {
     "data": {
      "text/plain": [
       "array(['Data Analyst', 'Other', 'Data Scientist'], dtype=object)"
      ]
     },
     "execution_count": 3,
     "metadata": {},
     "output_type": "execute_result"
    }
   ],
   "source": [
    "# adding latitude and longitude coordinates to main df\n",
    "merged_df = pd.merge(df, coord_df, on=\"city\")\n",
    "merged_df[\"Job Title\"].unique()"
   ]
  },
  {
   "cell_type": "code",
   "execution_count": 4,
   "metadata": {},
   "outputs": [],
   "source": [
    "# exporting updated master dataset that now contains lat/long coordinates\n",
    "merged_df.to_csv(\"../Output/job_company_coords_merged_data.csv\", index=False, header=True)"
   ]
  },
  {
   "cell_type": "code",
   "execution_count": 5,
   "metadata": {},
   "outputs": [
    {
     "data": {
      "text/plain": [
       "(238, 30)"
      ]
     },
     "execution_count": 5,
     "metadata": {},
     "output_type": "execute_result"
    }
   ],
   "source": [
    "# Creating DF for Data Scientist Jobs\n",
    "DataScientist_df = merged_df.loc[(merged_df[\"Job Title\"] == \"Data Scientist\")]\n",
    "DataScientist_df.shape"
   ]
  },
  {
   "cell_type": "code",
   "execution_count": 6,
   "metadata": {},
   "outputs": [
    {
     "data": {
      "text/html": [
       "<div>\n",
       "<style scoped>\n",
       "    .dataframe tbody tr th:only-of-type {\n",
       "        vertical-align: middle;\n",
       "    }\n",
       "\n",
       "    .dataframe tbody tr th {\n",
       "        vertical-align: top;\n",
       "    }\n",
       "\n",
       "    .dataframe thead th {\n",
       "        text-align: right;\n",
       "    }\n",
       "</style>\n",
       "<table border=\"1\" class=\"dataframe\">\n",
       "  <thead>\n",
       "    <tr style=\"text-align: right;\">\n",
       "      <th></th>\n",
       "      <th>Metro</th>\n",
       "      <th>Dimension Type</th>\n",
       "      <th>Month</th>\n",
       "      <th>Dimension</th>\n",
       "      <th>Measure</th>\n",
       "      <th>Value</th>\n",
       "      <th>YoY</th>\n",
       "    </tr>\n",
       "  </thead>\n",
       "  <tbody>\n",
       "    <tr>\n",
       "      <th>180</th>\n",
       "      <td>Atlanta</td>\n",
       "      <td>Job Title</td>\n",
       "      <td>2020-05</td>\n",
       "      <td>Data Scientist</td>\n",
       "      <td>Median Base Pay</td>\n",
       "      <td>$ 111,346</td>\n",
       "      <td>6.1%</td>\n",
       "    </tr>\n",
       "    <tr>\n",
       "      <th>182</th>\n",
       "      <td>Boston</td>\n",
       "      <td>Job Title</td>\n",
       "      <td>2020-05</td>\n",
       "      <td>Data Scientist</td>\n",
       "      <td>Median Base Pay</td>\n",
       "      <td>$ 125,362</td>\n",
       "      <td>6.8%</td>\n",
       "    </tr>\n",
       "    <tr>\n",
       "      <th>184</th>\n",
       "      <td>Chicago</td>\n",
       "      <td>Job Title</td>\n",
       "      <td>2020-05</td>\n",
       "      <td>Data Scientist</td>\n",
       "      <td>Median Base Pay</td>\n",
       "      <td>$ 112,504</td>\n",
       "      <td>7.0%</td>\n",
       "    </tr>\n",
       "  </tbody>\n",
       "</table>\n",
       "</div>"
      ],
      "text/plain": [
       "       Metro Dimension Type    Month       Dimension          Measure  \\\n",
       "180  Atlanta      Job Title  2020-05  Data Scientist  Median Base Pay   \n",
       "182   Boston      Job Title  2020-05  Data Scientist  Median Base Pay   \n",
       "184  Chicago      Job Title  2020-05  Data Scientist  Median Base Pay   \n",
       "\n",
       "         Value   YoY  \n",
       "180  $ 111,346  6.1%  \n",
       "182  $ 125,362  6.8%  \n",
       "184  $ 112,504  7.0%  "
      ]
     },
     "execution_count": 6,
     "metadata": {},
     "output_type": "execute_result"
    }
   ],
   "source": [
    "# MERGING IN DATA SCIENTIST SALARY DATA TO BE MERGED WITH MAIN DATASET\n",
    "ds_salary_df = salary_df.loc[(salary_df[\"Dimension\"] == \"Data Scientist\")]\n",
    "ds_salary_df = ds_salary_df.loc[(ds_salary_df[\"Month\"] == \"2020-05\")]\n",
    "ds_salary_df.replace(to_replace=\"NYC\", value=\"New York\", inplace=True)\n",
    "ds_salary_df.head(3)\n"
   ]
  },
  {
   "cell_type": "code",
   "execution_count": 7,
   "metadata": {},
   "outputs": [],
   "source": [
    "# Making new data frame to be used in the marker labels\n",
    "job_count = DataScientist_df.groupby('city')[\"job name\"].count()\n",
    "job_count_df = pd.DataFrame({\"job count\" : job_count})\n"
   ]
  },
  {
   "cell_type": "code",
   "execution_count": 8,
   "metadata": {},
   "outputs": [
    {
     "name": "stderr",
     "output_type": "stream",
     "text": [
      "C:\\Users\\kaspromonti\\Anaconda3\\envs\\PythonData\\lib\\site-packages\\ipykernel_launcher.py:2: SettingWithCopyWarning: \n",
      "A value is trying to be set on a copy of a slice from a DataFrame\n",
      "\n",
      "See the caveats in the documentation: https://pandas.pydata.org/pandas-docs/stable/user_guide/indexing.html#returning-a-view-versus-a-copy\n",
      "  \n",
      "C:\\Users\\kaspromonti\\Anaconda3\\envs\\PythonData\\lib\\site-packages\\ipykernel_launcher.py:3: SettingWithCopyWarning: \n",
      "A value is trying to be set on a copy of a slice from a DataFrame\n",
      "\n",
      "See the caveats in the documentation: https://pandas.pydata.org/pandas-docs/stable/user_guide/indexing.html#returning-a-view-versus-a-copy\n",
      "  This is separate from the ipykernel package so we can avoid doing imports until\n"
     ]
    }
   ],
   "source": [
    "locations_df = merged_df[[\"Lat\", \"Lng\", \"city\"]]\n",
    "locations_df.drop_duplicates('city', inplace = True)\n",
    "locations_df.sort_values(\"city\", ascending=True, inplace = True)\n"
   ]
  },
  {
   "cell_type": "code",
   "execution_count": 9,
   "metadata": {},
   "outputs": [
    {
     "data": {
      "text/html": [
       "<div>\n",
       "<style scoped>\n",
       "    .dataframe tbody tr th:only-of-type {\n",
       "        vertical-align: middle;\n",
       "    }\n",
       "\n",
       "    .dataframe tbody tr th {\n",
       "        vertical-align: top;\n",
       "    }\n",
       "\n",
       "    .dataframe thead th {\n",
       "        text-align: right;\n",
       "    }\n",
       "</style>\n",
       "<table border=\"1\" class=\"dataframe\">\n",
       "  <thead>\n",
       "    <tr style=\"text-align: right;\">\n",
       "      <th></th>\n",
       "      <th>city</th>\n",
       "      <th>job count</th>\n",
       "      <th>Lat</th>\n",
       "      <th>Lng</th>\n",
       "      <th>Metro</th>\n",
       "      <th>Dimension Type</th>\n",
       "      <th>Month</th>\n",
       "      <th>Dimension</th>\n",
       "      <th>Measure</th>\n",
       "      <th>Value</th>\n",
       "      <th>YoY</th>\n",
       "      <th>Cost of Living Index</th>\n",
       "      <th>Opportunity Ranking</th>\n",
       "    </tr>\n",
       "  </thead>\n",
       "  <tbody>\n",
       "    <tr>\n",
       "      <th>0</th>\n",
       "      <td>Atlanta</td>\n",
       "      <td>3</td>\n",
       "      <td>33.7490</td>\n",
       "      <td>-84.3880</td>\n",
       "      <td>Atlanta</td>\n",
       "      <td>Job Title</td>\n",
       "      <td>2020-05</td>\n",
       "      <td>Data Scientist</td>\n",
       "      <td>Median Base Pay</td>\n",
       "      <td>$ 111,346</td>\n",
       "      <td>6.1%</td>\n",
       "      <td>89.2</td>\n",
       "      <td>6</td>\n",
       "    </tr>\n",
       "    <tr>\n",
       "      <th>1</th>\n",
       "      <td>Boston</td>\n",
       "      <td>20</td>\n",
       "      <td>42.3601</td>\n",
       "      <td>-71.0589</td>\n",
       "      <td>Boston</td>\n",
       "      <td>Job Title</td>\n",
       "      <td>2020-05</td>\n",
       "      <td>Data Scientist</td>\n",
       "      <td>Median Base Pay</td>\n",
       "      <td>$ 125,362</td>\n",
       "      <td>6.8%</td>\n",
       "      <td>131.6</td>\n",
       "      <td>7</td>\n",
       "    </tr>\n",
       "    <tr>\n",
       "      <th>2</th>\n",
       "      <td>Chicago</td>\n",
       "      <td>16</td>\n",
       "      <td>41.8781</td>\n",
       "      <td>-87.6298</td>\n",
       "      <td>Chicago</td>\n",
       "      <td>Job Title</td>\n",
       "      <td>2020-05</td>\n",
       "      <td>Data Scientist</td>\n",
       "      <td>Median Base Pay</td>\n",
       "      <td>$ 112,504</td>\n",
       "      <td>7.0%</td>\n",
       "      <td>94.5</td>\n",
       "      <td>5</td>\n",
       "    </tr>\n",
       "  </tbody>\n",
       "</table>\n",
       "</div>"
      ],
      "text/plain": [
       "      city  job count      Lat      Lng    Metro Dimension Type    Month  \\\n",
       "0  Atlanta          3  33.7490 -84.3880  Atlanta      Job Title  2020-05   \n",
       "1   Boston         20  42.3601 -71.0589   Boston      Job Title  2020-05   \n",
       "2  Chicago         16  41.8781 -87.6298  Chicago      Job Title  2020-05   \n",
       "\n",
       "        Dimension          Measure      Value   YoY Cost of Living Index  \\\n",
       "0  Data Scientist  Median Base Pay  $ 111,346  6.1%                 89.2   \n",
       "1  Data Scientist  Median Base Pay  $ 125,362  6.8%                131.6   \n",
       "2  Data Scientist  Median Base Pay  $ 112,504  7.0%                 94.5   \n",
       "\n",
       "  Opportunity Ranking  \n",
       "0                   6  \n",
       "1                   7  \n",
       "2                   5  "
      ]
     },
     "execution_count": 9,
     "metadata": {},
     "output_type": "execute_result"
    }
   ],
   "source": [
    "# Merging job counts with Lat/Lng Coordinates\n",
    "job_locations_df = pd.merge(left=job_count_df, right=locations_df, left_on='city', right_on='city')\n",
    "\n",
    "# Merging in salary data\n",
    "marker_df = pd.merge(left=job_locations_df, right=ds_salary_df, left_on='city', right_on='Metro')\n",
    "\n",
    "# Appending in Cost of Living Index by State\n",
    "marker_df[\"Cost of Living Index\"] = [\"89.2\", \"131.6\", \"94.5\", \"91.5\", \"151.7\", \"139.1\", \"101.7\",\"151.7\", \"110.7\", \"158.4\"]\n",
    "marker_df[\"Opportunity Ranking\"] = [\"6\", \"7\", \"5\", \"3.5\", \"10\", \"1\", \"9\",\"2\", \"3.5\", \"8\"]\n",
    "\n",
    "# exporting data science marker csv \n",
    "marker_df.to_csv(\"../Output/data_science_marker.csv\", index=False, header=True)\n",
    "\n",
    "marker_df.head(3)"
   ]
  },
  {
   "cell_type": "code",
   "execution_count": 10,
   "metadata": {},
   "outputs": [
    {
     "data": {
      "application/vnd.jupyter.widget-view+json": {
       "model_id": "18860674f9a44f119c638e6143c60b0f",
       "version_major": 2,
       "version_minor": 0
      },
      "text/plain": [
       "Figure(layout=FigureLayout(height='420px'))"
      ]
     },
     "metadata": {},
     "output_type": "display_data"
    },
    {
     "data": {
      "text/plain": [
       "<Figure size 432x288 with 0 Axes>"
      ]
     },
     "metadata": {},
     "output_type": "display_data"
    }
   ],
   "source": [
    "# SUMMARY MAP FOR DATA SCIENCE JOBS\n",
    "gmaps.configure(g_key)\n",
    "fig = gmaps.figure(map_type='SATELLITE')\n",
    "\n",
    "# Using the template add the job marks to the heatmap\n",
    "job_locations = marker_df[[\"Lat\", \"Lng\"]]\n",
    "\n",
    "# Using the template add the hotel marks to the heatmap\n",
    "info_box_template = \"\"\"\n",
    "<dl>\n",
    "<dt>Ranking</dt><dd>{Opportunity Ranking}</dd>\n",
    "<dt>City</dt><dd>{city}</dd>\n",
    "<dt>Job Count</dt><dd>{job count}</dd>\n",
    "<dt>Mean Salary</dt><dd>{Value}</dd>\n",
    "</dl>\n",
    "\"\"\"\n",
    "job_info = [info_box_template.format(**row) for index, row in marker_df.iterrows()]\n",
    "markers = gmaps.marker_layer(job_locations, info_box_content=job_info)\n",
    "\n",
    "plt.savefig('../Output/Data Scientist Summary Map.png')\n",
    "\n",
    "\n",
    "# Display figure\n",
    "fig.add_layer(markers)\n",
    "fig\n"
   ]
  },
  {
   "cell_type": "code",
   "execution_count": 11,
   "metadata": {},
   "outputs": [
    {
     "data": {
      "application/vnd.jupyter.widget-view+json": {
       "model_id": "3770bf1fcb584230bee2ff144f762d80",
       "version_major": 2,
       "version_minor": 0
      },
      "text/plain": [
       "Figure(layout=FigureLayout(height='420px'))"
      ]
     },
     "metadata": {},
     "output_type": "display_data"
    },
    {
     "data": {
      "text/plain": [
       "<Figure size 432x288 with 0 Axes>"
      ]
     },
     "metadata": {},
     "output_type": "display_data"
    }
   ],
   "source": [
    "# DATA ANALYST SUMMARY MAP\n",
    "# creating df for only Data Analyst positions\n",
    "DataAnalyst_df = merged_df.loc[(merged_df[\"Job Title\"] == \"Data Analyst\")]\n",
    "\n",
    "#ADDING IN SALARY DATA TO BE MERGED WITH MAIN DATASET\n",
    "da_salary_df = salary_df.loc[(salary_df[\"Dimension\"] == \"Data Analyst\")]\n",
    "da_salary_df = da_salary_df.loc[(da_salary_df[\"Month\"] == \"2020-05\")]\n",
    "da_salary_df.replace(to_replace=\"NYC\", value=\"New York\", inplace=True)\n",
    "\n",
    "#Making new data frame to be used in the marker labels\n",
    "da_job_count = DataAnalyst_df.groupby('city')[\"job name\"].count()\n",
    "da_job_count_df = pd.DataFrame({\"job count\" : da_job_count})\n",
    "\n",
    "# Merging job counts with Lat/Lng Coordinates\n",
    "da_job_count_df = pd.merge(left=da_job_count_df, right=locations_df, left_on='city', right_on='city')\n",
    "\n",
    "# Merging in salary data\n",
    "da_marker_df = pd.merge(left=da_job_count_df, right=da_salary_df, left_on='city', right_on='Metro')\n",
    "# da_marker_df[\"Cost of Living Index\"] = [\"89.2\", \"131.6\", \"94.5\", \"91.5\", \"151.7\", \"139.1\", \"101.7\",\"151.7\", \"110.7\", \"158.4\"]\n",
    "da_marker_df[\"Opportunity Ranking\"] = [\"4.5\", \"7\", \"3\", \"2\", \"10\", \"1\", \"8.5\",\"4.5\", \"6\", \"8.5\"]\n",
    "\n",
    "# SUMMARY MAP FOR BUSINESS ANALYST JOBS\n",
    "fig = gmaps.figure(map_type='SATELLITE')\n",
    "\n",
    "# Using the template add the job marks to the heatmap\n",
    "job_locations = da_marker_df[[\"Lat\", \"Lng\"]]\n",
    "\n",
    "# Using the template add the hotel marks to the heatmap\n",
    "info_box_template = \"\"\"\n",
    "<dl>\n",
    "<dt>Ranking</dt><dd>{Opportunity Ranking}</dd>\n",
    "<dt>City</dt><dd>{city}</dd>\n",
    "<dt>Job Count</dt><dd>{job count}</dd>\n",
    "<dt>Mean Salary</dt><dd>{Value}</dd>\n",
    "</dl>\n",
    "\"\"\"\n",
    "da_job_info = [info_box_template.format(**row) for index, row in da_marker_df.iterrows()]\n",
    "da_markers = gmaps.marker_layer(job_locations, info_box_content=da_job_info)\n",
    "\n",
    "plt.savefig('../Output/Data Analyst Summary Map.png')\n",
    "\n",
    "# exporting data analyst marker csv \n",
    "da_marker_df.to_csv(\"../Output/data_analyst_marker.csv\", index=False, header=True)\n",
    "\n",
    "# Display figure\n",
    "fig.add_layer(da_markers)\n",
    "fig\n"
   ]
  }
 ],
 "metadata": {
  "kernelspec": {
   "display_name": "Python [conda env:PythonData] *",
   "language": "python",
   "name": "conda-env-PythonData-py"
  },
  "language_info": {
   "codemirror_mode": {
    "name": "ipython",
    "version": 3
   },
   "file_extension": ".py",
   "mimetype": "text/x-python",
   "name": "python",
   "nbconvert_exporter": "python",
   "pygments_lexer": "ipython3",
   "version": "3.6.10"
  }
 },
 "nbformat": 4,
 "nbformat_minor": 4
}
